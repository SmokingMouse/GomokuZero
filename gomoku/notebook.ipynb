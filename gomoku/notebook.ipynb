{
 "cells": [
  {
   "cell_type": "markdown",
   "id": "747456d5",
   "metadata": {},
   "source": [
    "# 1. 单局 PK 可视化区域"
   ]
  },
  {
   "cell_type": "code",
   "execution_count": null,
   "id": "02731000",
   "metadata": {},
   "outputs": [],
   "source": [
    "from gomoku.player import ZeroMCTSPlayer, WrongZeroMCTSPlayer, IneffectiveZeroMCTSPlayer, play_one_game\n",
    "from gomoku.gomoku_env import GomokuEnvSimple\n",
    "from gomoku.policy import ZeroPolicy"
   ]
  },
  {
   "cell_type": "code",
   "execution_count": null,
   "id": "eb9574a0",
   "metadata": {},
   "outputs": [],
   "source": [
    "from gomoku.player import IneffectiveZeroMCTSPlayer\n",
    "\n",
    "\n",
    "player1 = ZeroMCTSPlayer(ZeroPolicy(board_size=9), itermax=300, device='cpu', eager=False)\n",
    "player2 = ZeroMCTSPlayer(ZeroPolicy(board_size=9), itermax=300, device='cpu', eager=False)\n",
    "\n",
    "game = GomokuEnvSimple()\n",
    "\n",
    "_ = play_one_game(player1, player2, game, render=True)"
   ]
  },
  {
   "cell_type": "markdown",
   "id": "987be24c",
   "metadata": {},
   "source": [
    "# 2. ARENA "
   ]
  },
  {
   "cell_type": "code",
   "execution_count": null,
   "id": "220a5295",
   "metadata": {},
   "outputs": [],
   "source": [
    "from gomoku.player import arena_parallel\n",
    "from gomoku.player import ZeroMCTSPlayer, WrongZeroMCTSPlayer, IneffectiveZeroMCTSPlayer, play_one_game\n",
    "from gomoku.gomoku_env import GomokuEnvSimple\n",
    "from gomoku.policy import ZeroPolicy"
   ]
  },
  {
   "cell_type": "code",
   "execution_count": null,
   "id": "cb3683f4",
   "metadata": {},
   "outputs": [],
   "source": [
    "r = arena_parallel(\n",
    "    player1_main=ZeroMCTSPlayer(ZeroPolicy(board_size=9), itermax=50, device='cpu', eager=False),\n",
    "    player2_main=WrongZeroMCTSPlayer(ZeroPolicy(board_size=9), itermax=50, device='cpu', eager=False),\n",
    "    games=100,\n",
    ")"
   ]
  },
  {
   "cell_type": "code",
   "execution_count": null,
   "id": "7fba45f8",
   "metadata": {},
   "outputs": [],
   "source": [
    "r = arena_parallel(\n",
    "    player1_main=ZeroMCTSPlayer(ZeroPolicy(board_size=9), itermax=100, device='cpu', eager=False),\n",
    "    player2_main=IneffectiveZeroMCTSPlayer(ZeroPolicy(board_size=9), itermax=100, device='cpu', eager=False),\n",
    "    games=50,\n",
    ")\n"
   ]
  },
  {
   "cell_type": "code",
   "execution_count": null,
   "id": "08988b6d",
   "metadata": {},
   "outputs": [],
   "source": []
  }
 ],
 "metadata": {
  "kernelspec": {
   "display_name": "GomokuZero (3.12.0)",
   "language": "python",
   "name": "python3"
  },
  "language_info": {
   "codemirror_mode": {
    "name": "ipython",
    "version": 3
   },
   "file_extension": ".py",
   "mimetype": "text/x-python",
   "name": "python",
   "nbconvert_exporter": "python",
   "pygments_lexer": "ipython3",
   "version": "3.12.0"
  }
 },
 "nbformat": 4,
 "nbformat_minor": 5
}
